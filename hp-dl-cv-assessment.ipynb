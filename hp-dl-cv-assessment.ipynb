{
 "cells": [
  {
   "cell_type": "markdown",
   "id": "00f7b42c",
   "metadata": {
    "papermill": {
     "duration": 0.00853,
     "end_time": "2024-03-06T05:52:20.953781",
     "exception": false,
     "start_time": "2024-03-06T05:52:20.945251",
     "status": "completed"
    },
    "tags": []
   },
   "source": [
    "\n",
    "# Deep Learning for Image Classification Assessment\n",
    "\n",
    "\n",
    "Welcome to your assessment! Follow the instructions in bold below to complete the assessment.\n",
    "\n",
    "If you get stuck, check out the solutions video and notebook. (Make sure to run the solutions notebook before posting a question to the QA forum please, thanks!)\n",
    "\n",
    "------------\n",
    "\n",
    "## The Challenge\n",
    "\n",
    "**Your task is to build an image classifier with Keras and Convolutional Neural Networks for the Fashion MNIST dataset. This data set includes 10 labels of different clothing types with 28 by 28 *grayscale* images. There is a training set of 60,000 images and 10,000 test images.**\n",
    "\n",
    "    Label\tDescription\n",
    "    0\t    T-shirt/top\n",
    "    1\t    Trouser\n",
    "    2\t    Pullover\n",
    "    3\t    Dress\n",
    "    4\t    Coat\n",
    "    5\t    Sandal\n",
    "    6\t    Shirt\n",
    "    7\t    Sneaker\n",
    "    8\t    Bag\n",
    "    9\t    Ankle boot\n",
    "    \n",
    " "
   ]
  },
  {
   "cell_type": "code",
   "execution_count": 1,
   "id": "8e34ec5c",
   "metadata": {
    "execution": {
     "iopub.execute_input": "2024-03-06T05:52:20.971785Z",
     "iopub.status.busy": "2024-03-06T05:52:20.971245Z",
     "iopub.status.idle": "2024-03-06T05:52:21.783543Z",
     "shell.execute_reply": "2024-03-06T05:52:21.782403Z"
    },
    "papermill": {
     "duration": 0.824037,
     "end_time": "2024-03-06T05:52:21.786022",
     "exception": false,
     "start_time": "2024-03-06T05:52:20.961985",
     "status": "completed"
    },
    "tags": []
   },
   "outputs": [],
   "source": [
    "import pandas as pd\n",
    "import numpy as np"
   ]
  },
  {
   "cell_type": "markdown",
   "id": "0328d7f1",
   "metadata": {
    "papermill": {
     "duration": 0.007503,
     "end_time": "2024-03-06T05:52:21.801570",
     "exception": false,
     "start_time": "2024-03-06T05:52:21.794067",
     "status": "completed"
    },
    "tags": []
   },
   "source": [
    "## The Data\n",
    "\n",
    "**TASK 1: Run the code below to download the dataset using Keras.**"
   ]
  },
  {
   "cell_type": "code",
   "execution_count": 2,
   "id": "b5bede1a",
   "metadata": {
    "execution": {
     "iopub.execute_input": "2024-03-06T05:52:21.819091Z",
     "iopub.status.busy": "2024-03-06T05:52:21.818359Z",
     "iopub.status.idle": "2024-03-06T05:52:37.814200Z",
     "shell.execute_reply": "2024-03-06T05:52:37.813069Z"
    },
    "papermill": {
     "duration": 16.007538,
     "end_time": "2024-03-06T05:52:37.816993",
     "exception": false,
     "start_time": "2024-03-06T05:52:21.809455",
     "status": "completed"
    },
    "tags": []
   },
   "outputs": [
    {
     "name": "stderr",
     "output_type": "stream",
     "text": [
      "2024-03-06 05:52:23.668692: E external/local_xla/xla/stream_executor/cuda/cuda_dnn.cc:9261] Unable to register cuDNN factory: Attempting to register factory for plugin cuDNN when one has already been registered\n",
      "2024-03-06 05:52:23.668802: E external/local_xla/xla/stream_executor/cuda/cuda_fft.cc:607] Unable to register cuFFT factory: Attempting to register factory for plugin cuFFT when one has already been registered\n",
      "2024-03-06 05:52:23.801063: E external/local_xla/xla/stream_executor/cuda/cuda_blas.cc:1515] Unable to register cuBLAS factory: Attempting to register factory for plugin cuBLAS when one has already been registered\n"
     ]
    },
    {
     "name": "stdout",
     "output_type": "stream",
     "text": [
      "Downloading data from https://storage.googleapis.com/tensorflow/tf-keras-datasets/train-labels-idx1-ubyte.gz\n",
      "\u001b[1m29515/29515\u001b[0m \u001b[32m━━━━━━━━━━━━━━━━━━━━\u001b[0m\u001b[37m\u001b[0m \u001b[1m0s\u001b[0m 0us/step\n",
      "Downloading data from https://storage.googleapis.com/tensorflow/tf-keras-datasets/train-images-idx3-ubyte.gz\n",
      "\u001b[1m26421880/26421880\u001b[0m \u001b[32m━━━━━━━━━━━━━━━━━━━━\u001b[0m\u001b[37m\u001b[0m \u001b[1m2s\u001b[0m 0us/step\n",
      "Downloading data from https://storage.googleapis.com/tensorflow/tf-keras-datasets/t10k-labels-idx1-ubyte.gz\n",
      "\u001b[1m5148/5148\u001b[0m \u001b[32m━━━━━━━━━━━━━━━━━━━━\u001b[0m\u001b[37m\u001b[0m \u001b[1m0s\u001b[0m 0us/step\n",
      "Downloading data from https://storage.googleapis.com/tensorflow/tf-keras-datasets/t10k-images-idx3-ubyte.gz\n",
      "\u001b[1m4422102/4422102\u001b[0m \u001b[32m━━━━━━━━━━━━━━━━━━━━\u001b[0m\u001b[37m\u001b[0m \u001b[1m1s\u001b[0m 0us/step\n"
     ]
    }
   ],
   "source": [
    "from tensorflow.keras.datasets import fashion_mnist\n",
    "\n",
    "(x_train, y_train), (x_test, y_test) = fashion_mnist.load_data()"
   ]
  },
  {
   "cell_type": "markdown",
   "id": "d84c3287",
   "metadata": {
    "papermill": {
     "duration": 0.01118,
     "end_time": "2024-03-06T05:52:37.840296",
     "exception": false,
     "start_time": "2024-03-06T05:52:37.829116",
     "status": "completed"
    },
    "tags": []
   },
   "source": [
    "## Visualizing the Data\n",
    "\n",
    "**TASK 2: Use matplotlib to view an image from the data set. It can be any image from the data set.**"
   ]
  },
  {
   "cell_type": "code",
   "execution_count": 3,
   "id": "8e2a9459",
   "metadata": {
    "execution": {
     "iopub.execute_input": "2024-03-06T05:52:37.866425Z",
     "iopub.status.busy": "2024-03-06T05:52:37.865749Z",
     "iopub.status.idle": "2024-03-06T05:52:37.870450Z",
     "shell.execute_reply": "2024-03-06T05:52:37.869445Z"
    },
    "papermill": {
     "duration": 0.019809,
     "end_time": "2024-03-06T05:52:37.872474",
     "exception": false,
     "start_time": "2024-03-06T05:52:37.852665",
     "status": "completed"
    },
    "tags": []
   },
   "outputs": [],
   "source": [
    "import matplotlib.pyplot as plt"
   ]
  },
  {
   "cell_type": "code",
   "execution_count": 4,
   "id": "fdccb26d",
   "metadata": {
    "execution": {
     "iopub.execute_input": "2024-03-06T05:52:37.897740Z",
     "iopub.status.busy": "2024-03-06T05:52:37.897182Z",
     "iopub.status.idle": "2024-03-06T05:52:38.158868Z",
     "shell.execute_reply": "2024-03-06T05:52:38.157609Z"
    },
    "papermill": {
     "duration": 0.279243,
     "end_time": "2024-03-06T05:52:38.163481",
     "exception": false,
     "start_time": "2024-03-06T05:52:37.884238",
     "status": "completed"
    },
    "tags": []
   },
   "outputs": [
    {
     "data": {
      "text/plain": [
       "<matplotlib.image.AxesImage at 0x7b9034d91cf0>"
      ]
     },
     "execution_count": 4,
     "metadata": {},
     "output_type": "execute_result"
    },
    {
     "data": {
      "image/png": "[encoded data removed]",
      "text/plain": [
       "<Figure size 640x480 with 1 Axes>"
      ]
     },
     "metadata": {},
     "output_type": "display_data"
    }
   ],
   "source": [
    "plt.imshow(x_train[0])"
   ]
  },
  {
   "cell_type": "markdown",
   "id": "f90a21df",
   "metadata": {
    "papermill": {
     "duration": 0.014568,
     "end_time": "2024-03-06T05:52:38.192355",
     "exception": false,
     "start_time": "2024-03-06T05:52:38.177787",
     "status": "completed"
    },
    "tags": []
   },
   "source": [
    "## Preprocessing the Data\n",
    "\n",
    "**TASK 3: Normalize the X train and X test data by dividing by the max value of the image arrays.**"
   ]
  },
  {
   "cell_type": "code",
   "execution_count": 5,
   "id": "3c9399c6",
   "metadata": {
    "execution": {
     "iopub.execute_input": "2024-03-06T05:52:38.223615Z",
     "iopub.status.busy": "2024-03-06T05:52:38.223202Z",
     "iopub.status.idle": "2024-03-06T05:52:38.232741Z",
     "shell.execute_reply": "2024-03-06T05:52:38.231713Z"
    },
    "papermill": {
     "duration": 0.028429,
     "end_time": "2024-03-06T05:52:38.235110",
     "exception": false,
     "start_time": "2024-03-06T05:52:38.206681",
     "status": "completed"
    },
    "scrolled": true,
    "tags": []
   },
   "outputs": [
    {
     "data": {
      "text/plain": [
       "array([[  0,   0,   0,   0,   0,   0,   0,   0,   0,   0,   0,   0,   0,\n",
       "          0,   0,   0,   0,   0,   0,   0,   0,   0,   0,   0,   0,   0,\n",
       "          0,   0],\n",
       "       [  0,   0,   0,   0,   0,   0,   0,   0,   0,   0,   0,   0,   0,\n",
       "          0,   0,   0,   0,   0,   0,   0,   0,   0,   0,   0,   0,   0,\n",
       "          0,   0],\n",
       "       [  0,   0,   0,   0,   0,   0,   0,   0,   0,   0,   0,   0,   0,\n",
       "          0,   0,   0,   0,   0,   0,   0,   0,   0,   0,   0,   0,   0,\n",
       "          0,   0],\n",
       "       [  0,   0,   0,   0,   0,   0,   0,   0,   0,   0,   0,   0,   1,\n",
       "          0,   0,  13,  73,   0,   0,   1,   4,   0,   0,   0,   0,   1,\n",
       "          1,   0],\n",
       "       [  0,   0,   0,   0,   0,   0,   0,   0,   0,   0,   0,   0,   3,\n",
       "          0,  36, 136, 127,  62,  54,   0,   0,   0,   1,   3,   4,   0,\n",
       "          0,   3],\n",
       "       [  0,   0,   0,   0,   0,   0,   0,   0,   0,   0,   0,   0,   6,\n",
       "          0, 102, 204, 176, 134, 144, 123,  23,   0,   0,   0,   0,  12,\n",
       "         10,   0],\n",
       "       [  0,   0,   0,   0,   0,   0,   0,   0,   0,   0,   0,   0,   0,\n",
       "          0, 155, 236, 207, 178, 107, 156, 161, 109,  64,  23,  77, 130,\n",
       "         72,  15],\n",
       "       [  0,   0,   0,   0,   0,   0,   0,   0,   0,   0,   0,   1,   0,\n",
       "         69, 207, 223, 218, 216, 216, 163, 127, 121, 122, 146, 141,  88,\n",
       "        172,  66],\n",
       "       [  0,   0,   0,   0,   0,   0,   0,   0,   0,   1,   1,   1,   0,\n",
       "        200, 232, 232, 233, 229, 223, 223, 215, 213, 164, 127, 123, 196,\n",
       "        229,   0],\n",
       "       [  0,   0,   0,   0,   0,   0,   0,   0,   0,   0,   0,   0,   0,\n",
       "        183, 225, 216, 223, 228, 235, 227, 224, 222, 224, 221, 223, 245,\n",
       "        173,   0],\n",
       "       [  0,   0,   0,   0,   0,   0,   0,   0,   0,   0,   0,   0,   0,\n",
       "        193, 228, 218, 213, 198, 180, 212, 210, 211, 213, 223, 220, 243,\n",
       "        202,   0],\n",
       "       [  0,   0,   0,   0,   0,   0,   0,   0,   0,   1,   3,   0,  12,\n",
       "        219, 220, 212, 218, 192, 169, 227, 208, 218, 224, 212, 226, 197,\n",
       "        209,  52],\n",
       "       [  0,   0,   0,   0,   0,   0,   0,   0,   0,   0,   6,   0,  99,\n",
       "        244, 222, 220, 218, 203, 198, 221, 215, 213, 222, 220, 245, 119,\n",
       "        167,  56],\n",
       "       [  0,   0,   0,   0,   0,   0,   0,   0,   0,   4,   0,   0,  55,\n",
       "        236, 228, 230, 228, 240, 232, 213, 218, 223, 234, 217, 217, 209,\n",
       "         92,   0],\n",
       "       [  0,   0,   1,   4,   6,   7,   2,   0,   0,   0,   0,   0, 237,\n",
       "        226, 217, 223, 222, 219, 222, 221, 216, 223, 229, 215, 218, 255,\n",
       "         77,   0],\n",
       "       [  0,   3,   0,   0,   0,   0,   0,   0,   0,  62, 145, 204, 228,\n",
       "        207, 213, 221, 218, 208, 211, 218, 224, 223, 219, 215, 224, 244,\n",
       "        159,   0],\n",
       "       [  0,   0,   0,   0,  18,  44,  82, 107, 189, 228, 220, 222, 217,\n",
       "        226, 200, 205, 211, 230, 224, 234, 176, 188, 250, 248, 233, 238,\n",
       "        215,   0],\n",
       "       [  0,  57, 187, 208, 224, 221, 224, 208, 204, 214, 208, 209, 200,\n",
       "        159, 245, 193, 206, 223, 255, 255, 221, 234, 221, 211, 220, 232,\n",
       "        246,   0],\n",
       "       [  3, 202, 228, 224, 221, 211, 211, 214, 205, 205, 205, 220, 240,\n",
       "         80, 150, 255, 229, 221, 188, 154, 191, 210, 204, 209, 222, 228,\n",
       "        225,   0],\n",
       "       [ 98, 233, 198, 210, 222, 229, 229, 234, 249, 220, 194, 215, 217,\n",
       "        241,  65,  73, 106, 117, 168, 219, 221, 215, 217, 223, 223, 224,\n",
       "        229,  29],\n",
       "       [ 75, 204, 212, 204, 193, 205, 211, 225, 216, 185, 197, 206, 198,\n",
       "        213, 240, 195, 227, 245, 239, 223, 218, 212, 209, 222, 220, 221,\n",
       "        230,  67],\n",
       "       [ 48, 203, 183, 194, 213, 197, 185, 190, 194, 192, 202, 214, 219,\n",
       "        221, 220, 236, 225, 216, 199, 206, 186, 181, 177, 172, 181, 205,\n",
       "        206, 115],\n",
       "       [  0, 122, 219, 193, 179, 171, 183, 196, 204, 210, 213, 207, 211,\n",
       "        210, 200, 196, 194, 191, 195, 191, 198, 192, 176, 156, 167, 177,\n",
       "        210,  92],\n",
       "       [  0,   0,  74, 189, 212, 191, 175, 172, 175, 181, 185, 188, 189,\n",
       "        188, 193, 198, 204, 209, 210, 210, 211, 188, 188, 194, 192, 216,\n",
       "        170,   0],\n",
       "       [  2,   0,   0,   0,  66, 200, 222, 237, 239, 242, 246, 243, 244,\n",
       "        221, 220, 193, 191, 179, 182, 182, 181, 176, 166, 168,  99,  58,\n",
       "          0,   0],\n",
       "       [  0,   0,   0,   0,   0,   0,   0,  40,  61,  44,  72,  41,  35,\n",
       "          0,   0,   0,   0,   0,   0,   0,   0,   0,   0,   0,   0,   0,\n",
       "          0,   0],\n",
       "       [  0,   0,   0,   0,   0,   0,   0,   0,   0,   0,   0,   0,   0,\n",
       "          0,   0,   0,   0,   0,   0,   0,   0,   0,   0,   0,   0,   0,\n",
       "          0,   0],\n",
       "       [  0,   0,   0,   0,   0,   0,   0,   0,   0,   0,   0,   0,   0,\n",
       "          0,   0,   0,   0,   0,   0,   0,   0,   0,   0,   0,   0,   0,\n",
       "          0,   0]], dtype=uint8)"
      ]
     },
     "execution_count": 5,
     "metadata": {},
     "output_type": "execute_result"
    }
   ],
   "source": [
    "x_train[0]"
   ]
  },
  {
   "cell_type": "code",
   "execution_count": 6,
   "id": "7c898126",
   "metadata": {
    "execution": {
     "iopub.execute_input": "2024-03-06T05:52:38.261789Z",
     "iopub.status.busy": "2024-03-06T05:52:38.261172Z",
     "iopub.status.idle": "2024-03-06T05:52:38.267473Z",
     "shell.execute_reply": "2024-03-06T05:52:38.266555Z"
    },
    "papermill": {
     "duration": 0.021833,
     "end_time": "2024-03-06T05:52:38.269389",
     "exception": false,
     "start_time": "2024-03-06T05:52:38.247556",
     "status": "completed"
    },
    "tags": []
   },
   "outputs": [
    {
     "data": {
      "text/plain": [
       "(28, 28)"
      ]
     },
     "execution_count": 6,
     "metadata": {},
     "output_type": "execute_result"
    }
   ],
   "source": [
    "x_train[0].shape"
   ]
  },
  {
   "cell_type": "code",
   "execution_count": 7,
   "id": "26187d75",
   "metadata": {
    "execution": {
     "iopub.execute_input": "2024-03-06T05:52:38.295764Z",
     "iopub.status.busy": "2024-03-06T05:52:38.295389Z",
     "iopub.status.idle": "2024-03-06T05:52:38.302077Z",
     "shell.execute_reply": "2024-03-06T05:52:38.300996Z"
    },
    "papermill": {
     "duration": 0.022277,
     "end_time": "2024-03-06T05:52:38.304134",
     "exception": false,
     "start_time": "2024-03-06T05:52:38.281857",
     "status": "completed"
    },
    "tags": []
   },
   "outputs": [
    {
     "data": {
      "text/plain": [
       "255"
      ]
     },
     "execution_count": 7,
     "metadata": {},
     "output_type": "execute_result"
    }
   ],
   "source": [
    "x_train[0].max()"
   ]
  },
  {
   "cell_type": "code",
   "execution_count": 8,
   "id": "5bff4276",
   "metadata": {
    "execution": {
     "iopub.execute_input": "2024-03-06T05:52:38.331110Z",
     "iopub.status.busy": "2024-03-06T05:52:38.330233Z",
     "iopub.status.idle": "2024-03-06T05:52:38.496549Z",
     "shell.execute_reply": "2024-03-06T05:52:38.495747Z"
    },
    "papermill": {
     "duration": 0.182297,
     "end_time": "2024-03-06T05:52:38.498924",
     "exception": false,
     "start_time": "2024-03-06T05:52:38.316627",
     "status": "completed"
    },
    "tags": []
   },
   "outputs": [],
   "source": [
    "x_train = x_train/255"
   ]
  },
  {
   "cell_type": "code",
   "execution_count": 9,
   "id": "755ab8a7",
   "metadata": {
    "execution": {
     "iopub.execute_input": "2024-03-06T05:52:38.527215Z",
     "iopub.status.busy": "2024-03-06T05:52:38.526258Z",
     "iopub.status.idle": "2024-03-06T05:52:38.559329Z",
     "shell.execute_reply": "2024-03-06T05:52:38.558348Z"
    },
    "papermill": {
     "duration": 0.049727,
     "end_time": "2024-03-06T05:52:38.561692",
     "exception": false,
     "start_time": "2024-03-06T05:52:38.511965",
     "status": "completed"
    },
    "tags": []
   },
   "outputs": [],
   "source": [
    "x_test = x_test/255"
   ]
  },
  {
   "cell_type": "code",
   "execution_count": 10,
   "id": "72030458",
   "metadata": {
    "execution": {
     "iopub.execute_input": "2024-03-06T05:52:38.588931Z",
     "iopub.status.busy": "2024-03-06T05:52:38.588547Z",
     "iopub.status.idle": "2024-03-06T05:52:38.594837Z",
     "shell.execute_reply": "2024-03-06T05:52:38.593729Z"
    },
    "papermill": {
     "duration": 0.022615,
     "end_time": "2024-03-06T05:52:38.597025",
     "exception": false,
     "start_time": "2024-03-06T05:52:38.574410",
     "status": "completed"
    },
    "tags": []
   },
   "outputs": [
    {
     "data": {
      "text/plain": [
       "(60000, 28, 28)"
      ]
     },
     "execution_count": 10,
     "metadata": {},
     "output_type": "execute_result"
    }
   ],
   "source": [
    "x_train.shape"
   ]
  },
  {
   "cell_type": "code",
   "execution_count": 11,
   "id": "383ecf92",
   "metadata": {
    "execution": {
     "iopub.execute_input": "2024-03-06T05:52:38.625321Z",
     "iopub.status.busy": "2024-03-06T05:52:38.624964Z",
     "iopub.status.idle": "2024-03-06T05:52:38.631363Z",
     "shell.execute_reply": "2024-03-06T05:52:38.630202Z"
    },
    "papermill": {
     "duration": 0.022841,
     "end_time": "2024-03-06T05:52:38.633481",
     "exception": false,
     "start_time": "2024-03-06T05:52:38.610640",
     "status": "completed"
    },
    "tags": []
   },
   "outputs": [
    {
     "data": {
      "text/plain": [
       "(10000, 28, 28)"
      ]
     },
     "execution_count": 11,
     "metadata": {},
     "output_type": "execute_result"
    }
   ],
   "source": [
    "x_test.shape"
   ]
  },
  {
   "cell_type": "markdown",
   "id": "4b13dc3a",
   "metadata": {
    "papermill": {
     "duration": 0.012642,
     "end_time": "2024-03-06T05:52:38.659185",
     "exception": false,
     "start_time": "2024-03-06T05:52:38.646543",
     "status": "completed"
    },
    "tags": []
   },
   "source": [
    "**Task 4: Reshape the X arrays to include a 4 dimension of the single channel. Similar to what we did for the numbers MNIST data set.**"
   ]
  },
  {
   "cell_type": "code",
   "execution_count": 12,
   "id": "babbf54f",
   "metadata": {
    "execution": {
     "iopub.execute_input": "2024-03-06T05:52:38.686526Z",
     "iopub.status.busy": "2024-03-06T05:52:38.686149Z",
     "iopub.status.idle": "2024-03-06T05:52:38.691120Z",
     "shell.execute_reply": "2024-03-06T05:52:38.690051Z"
    },
    "papermill": {
     "duration": 0.020863,
     "end_time": "2024-03-06T05:52:38.693011",
     "exception": false,
     "start_time": "2024-03-06T05:52:38.672148",
     "status": "completed"
    },
    "tags": []
   },
   "outputs": [],
   "source": [
    "x_train = x_train.reshape(60000, 28, 28, 1)"
   ]
  },
  {
   "cell_type": "code",
   "execution_count": 13,
   "id": "34ae383f",
   "metadata": {
    "execution": {
     "iopub.execute_input": "2024-03-06T05:52:38.721892Z",
     "iopub.status.busy": "2024-03-06T05:52:38.721506Z",
     "iopub.status.idle": "2024-03-06T05:52:38.727784Z",
     "shell.execute_reply": "2024-03-06T05:52:38.726765Z"
    },
    "papermill": {
     "duration": 0.023254,
     "end_time": "2024-03-06T05:52:38.729787",
     "exception": false,
     "start_time": "2024-03-06T05:52:38.706533",
     "status": "completed"
    },
    "tags": []
   },
   "outputs": [
    {
     "data": {
      "text/plain": [
       "(60000, 28, 28, 1)"
      ]
     },
     "execution_count": 13,
     "metadata": {},
     "output_type": "execute_result"
    }
   ],
   "source": [
    "x_train.shape"
   ]
  },
  {
   "cell_type": "code",
   "execution_count": 14,
   "id": "7e4151a1",
   "metadata": {
    "execution": {
     "iopub.execute_input": "2024-03-06T05:52:38.757909Z",
     "iopub.status.busy": "2024-03-06T05:52:38.757545Z",
     "iopub.status.idle": "2024-03-06T05:52:38.761751Z",
     "shell.execute_reply": "2024-03-06T05:52:38.760729Z"
    },
    "papermill": {
     "duration": 0.020596,
     "end_time": "2024-03-06T05:52:38.763656",
     "exception": false,
     "start_time": "2024-03-06T05:52:38.743060",
     "status": "completed"
    },
    "tags": []
   },
   "outputs": [],
   "source": [
    "x_test = x_test.reshape(10000, 28, 28, 1)"
   ]
  },
  {
   "cell_type": "code",
   "execution_count": 15,
   "id": "73c25c87",
   "metadata": {
    "execution": {
     "iopub.execute_input": "2024-03-06T05:52:38.791824Z",
     "iopub.status.busy": "2024-03-06T05:52:38.791473Z",
     "iopub.status.idle": "2024-03-06T05:52:38.797303Z",
     "shell.execute_reply": "2024-03-06T05:52:38.796374Z"
    },
    "papermill": {
     "duration": 0.022473,
     "end_time": "2024-03-06T05:52:38.799395",
     "exception": false,
     "start_time": "2024-03-06T05:52:38.776922",
     "status": "completed"
    },
    "tags": []
   },
   "outputs": [
    {
     "data": {
      "text/plain": [
       "(10000, 28, 28, 1)"
      ]
     },
     "execution_count": 15,
     "metadata": {},
     "output_type": "execute_result"
    }
   ],
   "source": [
    "x_test.shape"
   ]
  },
  {
   "cell_type": "markdown",
   "id": "157c558a",
   "metadata": {
    "papermill": {
     "duration": 0.012867,
     "end_time": "2024-03-06T05:52:38.825576",
     "exception": false,
     "start_time": "2024-03-06T05:52:38.812709",
     "status": "completed"
    },
    "tags": []
   },
   "source": [
    "**TASK 5: Convert the y_train and y_test values to be one-hot encoded for categorical analysis by Keras.**"
   ]
  },
  {
   "cell_type": "code",
   "execution_count": 16,
   "id": "bf0371e3",
   "metadata": {
    "execution": {
     "iopub.execute_input": "2024-03-06T05:52:38.853710Z",
     "iopub.status.busy": "2024-03-06T05:52:38.853360Z",
     "iopub.status.idle": "2024-03-06T05:52:38.859899Z",
     "shell.execute_reply": "2024-03-06T05:52:38.859147Z"
    },
    "papermill": {
     "duration": 0.023169,
     "end_time": "2024-03-06T05:52:38.861899",
     "exception": false,
     "start_time": "2024-03-06T05:52:38.838730",
     "status": "completed"
    },
    "tags": []
   },
   "outputs": [],
   "source": [
    "from tensorflow.keras.utils import to_categorical"
   ]
  },
  {
   "cell_type": "code",
   "execution_count": 17,
   "id": "646decc3",
   "metadata": {
    "execution": {
     "iopub.execute_input": "2024-03-06T05:52:38.890814Z",
     "iopub.status.busy": "2024-03-06T05:52:38.889686Z",
     "iopub.status.idle": "2024-03-06T05:52:38.896997Z",
     "shell.execute_reply": "2024-03-06T05:52:38.896024Z"
    },
    "papermill": {
     "duration": 0.024136,
     "end_time": "2024-03-06T05:52:38.899296",
     "exception": false,
     "start_time": "2024-03-06T05:52:38.875160",
     "status": "completed"
    },
    "tags": []
   },
   "outputs": [],
   "source": [
    "y_train_one_hot = to_categorical(y_train)"
   ]
  },
  {
   "cell_type": "code",
   "execution_count": 18,
   "id": "b1d03d41",
   "metadata": {
    "execution": {
     "iopub.execute_input": "2024-03-06T05:52:38.984791Z",
     "iopub.status.busy": "2024-03-06T05:52:38.984094Z",
     "iopub.status.idle": "2024-03-06T05:52:38.991442Z",
     "shell.execute_reply": "2024-03-06T05:52:38.990461Z"
    },
    "papermill": {
     "duration": 0.080666,
     "end_time": "2024-03-06T05:52:38.993536",
     "exception": false,
     "start_time": "2024-03-06T05:52:38.912870",
     "status": "completed"
    },
    "tags": []
   },
   "outputs": [
    {
     "data": {
      "text/plain": [
       "array([[0., 0., 0., ..., 0., 0., 1.],\n",
       "       [1., 0., 0., ..., 0., 0., 0.],\n",
       "       [1., 0., 0., ..., 0., 0., 0.],\n",
       "       ...,\n",
       "       [0., 0., 0., ..., 0., 0., 0.],\n",
       "       [1., 0., 0., ..., 0., 0., 0.],\n",
       "       [0., 0., 0., ..., 0., 0., 0.]])"
      ]
     },
     "execution_count": 18,
     "metadata": {},
     "output_type": "execute_result"
    }
   ],
   "source": [
    "y_train_one_hot"
   ]
  },
  {
   "cell_type": "code",
   "execution_count": 19,
   "id": "7c12fcab",
   "metadata": {
    "execution": {
     "iopub.execute_input": "2024-03-06T05:52:39.022904Z",
     "iopub.status.busy": "2024-03-06T05:52:39.022494Z",
     "iopub.status.idle": "2024-03-06T05:52:39.027424Z",
     "shell.execute_reply": "2024-03-06T05:52:39.026458Z"
    },
    "papermill": {
     "duration": 0.021983,
     "end_time": "2024-03-06T05:52:39.029396",
     "exception": false,
     "start_time": "2024-03-06T05:52:39.007413",
     "status": "completed"
    },
    "tags": []
   },
   "outputs": [],
   "source": [
    "y_test_one_hot = to_categorical(y_test)"
   ]
  },
  {
   "cell_type": "code",
   "execution_count": 20,
   "id": "7abee648",
   "metadata": {
    "execution": {
     "iopub.execute_input": "2024-03-06T05:52:39.058300Z",
     "iopub.status.busy": "2024-03-06T05:52:39.057929Z",
     "iopub.status.idle": "2024-03-06T05:52:39.065229Z",
     "shell.execute_reply": "2024-03-06T05:52:39.064012Z"
    },
    "papermill": {
     "duration": 0.024345,
     "end_time": "2024-03-06T05:52:39.067510",
     "exception": false,
     "start_time": "2024-03-06T05:52:39.043165",
     "status": "completed"
    },
    "tags": []
   },
   "outputs": [
    {
     "data": {
      "text/plain": [
       "array([[0., 0., 0., ..., 0., 0., 1.],\n",
       "       [0., 0., 1., ..., 0., 0., 0.],\n",
       "       [0., 1., 0., ..., 0., 0., 0.],\n",
       "       ...,\n",
       "       [0., 0., 0., ..., 0., 1., 0.],\n",
       "       [0., 1., 0., ..., 0., 0., 0.],\n",
       "       [0., 0., 0., ..., 0., 0., 0.]])"
      ]
     },
     "execution_count": 20,
     "metadata": {},
     "output_type": "execute_result"
    }
   ],
   "source": [
    "y_test_one_hot"
   ]
  },
  {
   "cell_type": "markdown",
   "id": "77998fbf",
   "metadata": {
    "papermill": {
     "duration": 0.01352,
     "end_time": "2024-03-06T05:52:39.094858",
     "exception": false,
     "start_time": "2024-03-06T05:52:39.081338",
     "status": "completed"
    },
    "tags": []
   },
   "source": [
    "## Building the Model\n",
    "\n",
    "**TASK 5: Use Keras to create a model consisting of at least the following layers (but feel free to experiment):**\n",
    "\n",
    "* 2D Convolutional Layer, filters=32 and kernel_size=(4,4)\n",
    "* Pooling Layer where pool_size = (2,2)\n",
    "\n",
    "* Flatten Layer\n",
    "* Dense Layer (128 Neurons, but feel free to play around with this value), RELU activation\n",
    "\n",
    "* Final Dense Layer of 10 Neurons with a softmax activation\n",
    "\n",
    "**Then compile the model with these parameters: loss='categorical_crossentropy', optimizer='rmsprop', metrics=['accuracy']**"
   ]
  },
  {
   "cell_type": "code",
   "execution_count": 21,
   "id": "bec7a669",
   "metadata": {
    "execution": {
     "iopub.execute_input": "2024-03-06T05:52:39.124350Z",
     "iopub.status.busy": "2024-03-06T05:52:39.123387Z",
     "iopub.status.idle": "2024-03-06T05:52:39.131385Z",
     "shell.execute_reply": "2024-03-06T05:52:39.130530Z"
    },
    "papermill": {
     "duration": 0.02488,
     "end_time": "2024-03-06T05:52:39.133546",
     "exception": false,
     "start_time": "2024-03-06T05:52:39.108666",
     "status": "completed"
    },
    "tags": []
   },
   "outputs": [],
   "source": [
    "from tensorflow.keras.models import Sequential\n",
    "from tensorflow.keras.layers import Dense, Conv2D, MaxPool2D, Flatten"
   ]
  },
  {
   "cell_type": "code",
   "execution_count": 22,
   "id": "485ecde8",
   "metadata": {
    "execution": {
     "iopub.execute_input": "2024-03-06T05:52:39.165028Z",
     "iopub.status.busy": "2024-03-06T05:52:39.163549Z",
     "iopub.status.idle": "2024-03-06T05:52:39.287093Z",
     "shell.execute_reply": "2024-03-06T05:52:39.286000Z"
    },
    "papermill": {
     "duration": 0.141117,
     "end_time": "2024-03-06T05:52:39.289540",
     "exception": false,
     "start_time": "2024-03-06T05:52:39.148423",
     "status": "completed"
    },
    "tags": []
   },
   "outputs": [
    {
     "name": "stderr",
     "output_type": "stream",
     "text": [
      "/opt/conda/lib/python3.10/site-packages/keras/src/layers/convolutional/base_conv.py:99: UserWarning: Do not pass an `input_shape`/`input_dim` argument to a layer. When using Sequential models, prefer using an `Input(shape)` object as the first layer in the model instead.\n",
      "  super().__init__(\n"
     ]
    }
   ],
   "source": [
    "model = Sequential()\n",
    "\n",
    "# FIRST SET OF LAYERS \n",
    "\n",
    "# CONOLUTIONAL LAYER\n",
    "model.add(Conv2D(filters=32, kernel_size=(4,4), input_shape=(28, 28, 1), activation='relu'))\n",
    "\n",
    "# POOLING LAYER\n",
    "model.add(MaxPool2D(pool_size=(2, 2)))\n",
    "\n",
    "# SECOND SET OF LAYERS\n",
    "\n",
    "# CONOLUTIONAL LAYER\n",
    "model.add(Conv2D(filters=32, kernel_size=(4,4), input_shape=(28, 28, 1), activation='relu'))\n",
    "\n",
    "# POOLING LAYER\n",
    "model.add(MaxPool2D(pool_size=(2, 2)))\n",
    "\n",
    "# FLATTEN MAGES FROM 28 BY 28 TO 764 BEFORE FINAL LAYER\n",
    "model.add(Flatten())\n",
    "\n",
    "# 256 NEURONS IN DENSE HIDDEN LAYER (YOU CAN CHANGE THIS NUMBER OF NEURONS)\n",
    "model.add(Dense(128, activation='relu'))\n",
    "\n",
    "# LAST LAYER IS THE CLASSIFIER THUS 10 POSSIBLE CLASSES\n",
    "model.add(Dense(10, activation='softmax'))\n",
    "\n",
    "model.compile(loss='categorical_crossentropy',\n",
    "              optimizer='rmsprop',\n",
    "              metrics=['accuracy'])"
   ]
  },
  {
   "cell_type": "code",
   "execution_count": 23,
   "id": "67270f12",
   "metadata": {
    "execution": {
     "iopub.execute_input": "2024-03-06T05:52:39.320066Z",
     "iopub.status.busy": "2024-03-06T05:52:39.319441Z",
     "iopub.status.idle": "2024-03-06T05:52:39.342736Z",
     "shell.execute_reply": "2024-03-06T05:52:39.341918Z"
    },
    "papermill": {
     "duration": 0.040601,
     "end_time": "2024-03-06T05:52:39.344625",
     "exception": false,
     "start_time": "2024-03-06T05:52:39.304024",
     "status": "completed"
    },
    "tags": []
   },
   "outputs": [
    {
     "data": {
      "text/html": [
       "<pre style=\"white-space:pre;overflow-x:auto;line-height:normal;font-family:Menlo,'DejaVu Sans Mono',consolas,'Courier New',monospace\"><span style=\"font-weight: bold\">Model: \"sequential\"</span>\n",
       "</pre>\n"
      ],
      "text/plain": [
       "\u001b[1mModel: \"sequential\"\u001b[0m\n"
      ]
     },
     "metadata": {},
     "output_type": "display_data"
    },
    {
     "data": {
      "text/html": [
       "<pre style=\"white-space:pre;overflow-x:auto;line-height:normal;font-family:Menlo,'DejaVu Sans Mono',consolas,'Courier New',monospace\">┏━━━━━━━━━━━━━━━━━━━━━━━━━━━━━━━━━┳━━━━━━━━━━━━━━━━━━━━━━━━┳━━━━━━━━━━━━━━━┓\n",
       "┃<span style=\"font-weight: bold\"> Layer (type)                    </span>┃<span style=\"font-weight: bold\"> Output Shape           </span>┃<span style=\"font-weight: bold\">       Param # </span>┃\n",
       "┡━━━━━━━━━━━━━━━━━━━━━━━━━━━━━━━━━╇━━━━━━━━━━━━━━━━━━━━━━━━╇━━━━━━━━━━━━━━━┩\n",
       "│ conv2d (<span style=\"color: #0087ff; text-decoration-color: #0087ff\">Conv2D</span>)                 │ (<span style=\"color: #00d7ff; text-decoration-color: #00d7ff\">None</span>, <span style=\"color: #00af00; text-decoration-color: #00af00\">25</span>, <span style=\"color: #00af00; text-decoration-color: #00af00\">25</span>, <span style=\"color: #00af00; text-decoration-color: #00af00\">32</span>)     │           <span style=\"color: #00af00; text-decoration-color: #00af00\">544</span> │\n",
       "├─────────────────────────────────┼────────────────────────┼───────────────┤\n",
       "│ max_pooling2d (<span style=\"color: #0087ff; text-decoration-color: #0087ff\">MaxPooling2D</span>)    │ (<span style=\"color: #00d7ff; text-decoration-color: #00d7ff\">None</span>, <span style=\"color: #00af00; text-decoration-color: #00af00\">12</span>, <span style=\"color: #00af00; text-decoration-color: #00af00\">12</span>, <span style=\"color: #00af00; text-decoration-color: #00af00\">32</span>)     │             <span style=\"color: #00af00; text-decoration-color: #00af00\">0</span> │\n",
       "├─────────────────────────────────┼────────────────────────┼───────────────┤\n",
       "│ conv2d_1 (<span style=\"color: #0087ff; text-decoration-color: #0087ff\">Conv2D</span>)               │ (<span style=\"color: #00d7ff; text-decoration-color: #00d7ff\">None</span>, <span style=\"color: #00af00; text-decoration-color: #00af00\">9</span>, <span style=\"color: #00af00; text-decoration-color: #00af00\">9</span>, <span style=\"color: #00af00; text-decoration-color: #00af00\">32</span>)       │        <span style=\"color: #00af00; text-decoration-color: #00af00\">16,416</span> │\n",
       "├─────────────────────────────────┼────────────────────────┼───────────────┤\n",
       "│ max_pooling2d_1 (<span style=\"color: #0087ff; text-decoration-color: #0087ff\">MaxPooling2D</span>)  │ (<span style=\"color: #00d7ff; text-decoration-color: #00d7ff\">None</span>, <span style=\"color: #00af00; text-decoration-color: #00af00\">4</span>, <span style=\"color: #00af00; text-decoration-color: #00af00\">4</span>, <span style=\"color: #00af00; text-decoration-color: #00af00\">32</span>)       │             <span style=\"color: #00af00; text-decoration-color: #00af00\">0</span> │\n",
       "├─────────────────────────────────┼────────────────────────┼───────────────┤\n",
       "│ flatten (<span style=\"color: #0087ff; text-decoration-color: #0087ff\">Flatten</span>)               │ (<span style=\"color: #00d7ff; text-decoration-color: #00d7ff\">None</span>, <span style=\"color: #00af00; text-decoration-color: #00af00\">512</span>)            │             <span style=\"color: #00af00; text-decoration-color: #00af00\">0</span> │\n",
       "├─────────────────────────────────┼────────────────────────┼───────────────┤\n",
       "│ dense (<span style=\"color: #0087ff; text-decoration-color: #0087ff\">Dense</span>)                   │ (<span style=\"color: #00d7ff; text-decoration-color: #00d7ff\">None</span>, <span style=\"color: #00af00; text-decoration-color: #00af00\">128</span>)            │        <span style=\"color: #00af00; text-decoration-color: #00af00\">65,664</span> │\n",
       "├─────────────────────────────────┼────────────────────────┼───────────────┤\n",
       "│ dense_1 (<span style=\"color: #0087ff; text-decoration-color: #0087ff\">Dense</span>)                 │ (<span style=\"color: #00d7ff; text-decoration-color: #00d7ff\">None</span>, <span style=\"color: #00af00; text-decoration-color: #00af00\">10</span>)             │         <span style=\"color: #00af00; text-decoration-color: #00af00\">1,290</span> │\n",
       "└─────────────────────────────────┴────────────────────────┴───────────────┘\n",
       "</pre>\n"
      ],
      "text/plain": [
       "┏━━━━━━━━━━━━━━━━━━━━━━━━━━━━━━━━━┳━━━━━━━━━━━━━━━━━━━━━━━━┳━━━━━━━━━━━━━━━┓\n",
       "┃\u001b[1m \u001b[0m\u001b[1mLayer (type)                   \u001b[0m\u001b[1m \u001b[0m┃\u001b[1m \u001b[0m\u001b[1mOutput Shape          \u001b[0m\u001b[1m \u001b[0m┃\u001b[1m \u001b[0m\u001b[1m      Param #\u001b[0m\u001b[1m \u001b[0m┃\n",
       "┡━━━━━━━━━━━━━━━━━━━━━━━━━━━━━━━━━╇━━━━━━━━━━━━━━━━━━━━━━━━╇━━━━━━━━━━━━━━━┩\n",
       "│ conv2d (\u001b[38;5;33mConv2D\u001b[0m)                 │ (\u001b[38;5;45mNone\u001b[0m, \u001b[38;5;34m25\u001b[0m, \u001b[38;5;34m25\u001b[0m, \u001b[38;5;34m32\u001b[0m)     │           \u001b[38;5;34m544\u001b[0m │\n",
       "├─────────────────────────────────┼────────────────────────┼───────────────┤\n",
       "│ max_pooling2d (\u001b[38;5;33mMaxPooling2D\u001b[0m)    │ (\u001b[38;5;45mNone\u001b[0m, \u001b[38;5;34m12\u001b[0m, \u001b[38;5;34m12\u001b[0m, \u001b[38;5;34m32\u001b[0m)     │             \u001b[38;5;34m0\u001b[0m │\n",
       "├─────────────────────────────────┼────────────────────────┼───────────────┤\n",
       "│ conv2d_1 (\u001b[38;5;33mConv2D\u001b[0m)               │ (\u001b[38;5;45mNone\u001b[0m, \u001b[38;5;34m9\u001b[0m, \u001b[38;5;34m9\u001b[0m, \u001b[38;5;34m32\u001b[0m)       │        \u001b[38;5;34m16,416\u001b[0m │\n",
       "├─────────────────────────────────┼────────────────────────┼───────────────┤\n",
       "│ max_pooling2d_1 (\u001b[38;5;33mMaxPooling2D\u001b[0m)  │ (\u001b[38;5;45mNone\u001b[0m, \u001b[38;5;34m4\u001b[0m, \u001b[38;5;34m4\u001b[0m, \u001b[38;5;34m32\u001b[0m)       │             \u001b[38;5;34m0\u001b[0m │\n",
       "├─────────────────────────────────┼────────────────────────┼───────────────┤\n",
       "│ flatten (\u001b[38;5;33mFlatten\u001b[0m)               │ (\u001b[38;5;45mNone\u001b[0m, \u001b[38;5;34m512\u001b[0m)            │             \u001b[38;5;34m0\u001b[0m │\n",
       "├─────────────────────────────────┼────────────────────────┼───────────────┤\n",
       "│ dense (\u001b[38;5;33mDense\u001b[0m)                   │ (\u001b[38;5;45mNone\u001b[0m, \u001b[38;5;34m128\u001b[0m)            │        \u001b[38;5;34m65,664\u001b[0m │\n",
       "├─────────────────────────────────┼────────────────────────┼───────────────┤\n",
       "│ dense_1 (\u001b[38;5;33mDense\u001b[0m)                 │ (\u001b[38;5;45mNone\u001b[0m, \u001b[38;5;34m10\u001b[0m)             │         \u001b[38;5;34m1,290\u001b[0m │\n",
       "└─────────────────────────────────┴────────────────────────┴───────────────┘\n"
      ]
     },
     "metadata": {},
     "output_type": "display_data"
    },
    {
     "data": {
      "text/html": [
       "<pre style=\"white-space:pre;overflow-x:auto;line-height:normal;font-family:Menlo,'DejaVu Sans Mono',consolas,'Courier New',monospace\"><span style=\"font-weight: bold\"> Total params: </span><span style=\"color: #00af00; text-decoration-color: #00af00\">83,914</span> (327.79 KB)\n",
       "</pre>\n"
      ],
      "text/plain": [
       "\u001b[1m Total params: \u001b[0m\u001b[38;5;34m83,914\u001b[0m (327.79 KB)\n"
      ]
     },
     "metadata": {},
     "output_type": "display_data"
    },
    {
     "data": {
      "text/html": [
       "<pre style=\"white-space:pre;overflow-x:auto;line-height:normal;font-family:Menlo,'DejaVu Sans Mono',consolas,'Courier New',monospace\"><span style=\"font-weight: bold\"> Trainable params: </span><span style=\"color: #00af00; text-decoration-color: #00af00\">83,914</span> (327.79 KB)\n",
       "</pre>\n"
      ],
      "text/plain": [
       "\u001b[1m Trainable params: \u001b[0m\u001b[38;5;34m83,914\u001b[0m (327.79 KB)\n"
      ]
     },
     "metadata": {},
     "output_type": "display_data"
    },
    {
     "data": {
      "text/html": [
       "<pre style=\"white-space:pre;overflow-x:auto;line-height:normal;font-family:Menlo,'DejaVu Sans Mono',consolas,'Courier New',monospace\"><span style=\"font-weight: bold\"> Non-trainable params: </span><span style=\"color: #00af00; text-decoration-color: #00af00\">0</span> (0.00 B)\n",
       "</pre>\n"
      ],
      "text/plain": [
       "\u001b[1m Non-trainable params: \u001b[0m\u001b[38;5;34m0\u001b[0m (0.00 B)\n"
      ]
     },
     "metadata": {},
     "output_type": "display_data"
    }
   ],
   "source": [
    "model.summary()"
   ]
  },
  {
   "cell_type": "code",
   "execution_count": 24,
   "id": "e50e2ae8",
   "metadata": {
    "execution": {
     "iopub.execute_input": "2024-03-06T05:52:39.376057Z",
     "iopub.status.busy": "2024-03-06T05:52:39.375683Z",
     "iopub.status.idle": "2024-03-06T05:52:39.382166Z",
     "shell.execute_reply": "2024-03-06T05:52:39.381330Z"
    },
    "papermill": {
     "duration": 0.024901,
     "end_time": "2024-03-06T05:52:39.384288",
     "exception": false,
     "start_time": "2024-03-06T05:52:39.359387",
     "status": "completed"
    },
    "tags": []
   },
   "outputs": [],
   "source": [
    "from tensorflow.keras.callbacks import EarlyStopping"
   ]
  },
  {
   "cell_type": "code",
   "execution_count": 25,
   "id": "0cacc6fa",
   "metadata": {
    "execution": {
     "iopub.execute_input": "2024-03-06T05:52:39.416342Z",
     "iopub.status.busy": "2024-03-06T05:52:39.415715Z",
     "iopub.status.idle": "2024-03-06T05:52:39.420165Z",
     "shell.execute_reply": "2024-03-06T05:52:39.419484Z"
    },
    "papermill": {
     "duration": 0.022662,
     "end_time": "2024-03-06T05:52:39.422029",
     "exception": false,
     "start_time": "2024-03-06T05:52:39.399367",
     "status": "completed"
    },
    "tags": []
   },
   "outputs": [],
   "source": [
    "early_stop = EarlyStopping(monitor='val_loss', patience=2)"
   ]
  },
  {
   "cell_type": "markdown",
   "id": "b3ecf9b4",
   "metadata": {
    "papermill": {
     "duration": 0.014677,
     "end_time": "2024-03-06T05:52:39.451654",
     "exception": false,
     "start_time": "2024-03-06T05:52:39.436977",
     "status": "completed"
    },
    "tags": []
   },
   "source": [
    "### Training the Model\n",
    "**TASK 6: Train/Fit the model to the x_train set. Amount of epochs is up to you.**"
   ]
  },
  {
   "cell_type": "code",
   "execution_count": 26,
   "id": "83f04f5b",
   "metadata": {
    "execution": {
     "iopub.execute_input": "2024-03-06T05:52:39.483535Z",
     "iopub.status.busy": "2024-03-06T05:52:39.482856Z",
     "iopub.status.idle": "2024-03-06T05:56:10.045862Z",
     "shell.execute_reply": "2024-03-06T05:56:10.044778Z"
    },
    "papermill": {
     "duration": 210.581618,
     "end_time": "2024-03-06T05:56:10.048163",
     "exception": false,
     "start_time": "2024-03-06T05:52:39.466545",
     "status": "completed"
    },
    "tags": []
   },
   "outputs": [
    {
     "name": "stdout",
     "output_type": "stream",
     "text": [
      "Epoch 1/10\n",
      "\u001b[1m1875/1875\u001b[0m \u001b[32m━━━━━━━━━━━━━━━━━━━━\u001b[0m\u001b[37m\u001b[0m \u001b[1m27s\u001b[0m 14ms/step - accuracy: 0.7565 - loss: 0.6713 - val_accuracy: 0.8590 - val_loss: 0.3845\n",
      "Epoch 2/10\n",
      "\u001b[1m1875/1875\u001b[0m \u001b[32m━━━━━━━━━━━━━━━━━━━━\u001b[0m\u001b[37m\u001b[0m \u001b[1m39s\u001b[0m 13ms/step - accuracy: 0.8750 - loss: 0.3448 - val_accuracy: 0.8755 - val_loss: 0.3545\n",
      "Epoch 3/10\n",
      "\u001b[1m1875/1875\u001b[0m \u001b[32m━━━━━━━━━━━━━━━━━━━━\u001b[0m\u001b[37m\u001b[0m \u001b[1m24s\u001b[0m 13ms/step - accuracy: 0.8937 - loss: 0.2909 - val_accuracy: 0.8825 - val_loss: 0.3276\n",
      "Epoch 4/10\n",
      "\u001b[1m1875/1875\u001b[0m \u001b[32m━━━━━━━━━━━━━━━━━━━━\u001b[0m\u001b[37m\u001b[0m \u001b[1m24s\u001b[0m 13ms/step - accuracy: 0.9013 - loss: 0.2683 - val_accuracy: 0.8890 - val_loss: 0.3084\n",
      "Epoch 5/10\n",
      "\u001b[1m1875/1875\u001b[0m \u001b[32m━━━━━━━━━━━━━━━━━━━━\u001b[0m\u001b[37m\u001b[0m \u001b[1m24s\u001b[0m 13ms/step - accuracy: 0.9109 - loss: 0.2456 - val_accuracy: 0.8814 - val_loss: 0.3348\n",
      "Epoch 6/10\n",
      "\u001b[1m1875/1875\u001b[0m \u001b[32m━━━━━━━━━━━━━━━━━━━━\u001b[0m\u001b[37m\u001b[0m \u001b[1m24s\u001b[0m 13ms/step - accuracy: 0.9131 - loss: 0.2379 - val_accuracy: 0.8960 - val_loss: 0.2945\n",
      "Epoch 7/10\n",
      "\u001b[1m1875/1875\u001b[0m \u001b[32m━━━━━━━━━━━━━━━━━━━━\u001b[0m\u001b[37m\u001b[0m \u001b[1m24s\u001b[0m 13ms/step - accuracy: 0.9203 - loss: 0.2141 - val_accuracy: 0.8916 - val_loss: 0.3019\n",
      "Epoch 8/10\n",
      "\u001b[1m1875/1875\u001b[0m \u001b[32m━━━━━━━━━━━━━━━━━━━━\u001b[0m\u001b[37m\u001b[0m \u001b[1m24s\u001b[0m 13ms/step - accuracy: 0.9218 - loss: 0.2126 - val_accuracy: 0.8995 - val_loss: 0.3006\n"
     ]
    },
    {
     "data": {
      "text/plain": [
       "<keras.src.callbacks.history.History at 0x7b90317e3700>"
      ]
     },
     "execution_count": 26,
     "metadata": {},
     "output_type": "execute_result"
    }
   ],
   "source": [
    "model.fit(x_train,y_train_one_hot,epochs=10,validation_data=(x_test,y_test_one_hot),callbacks=[early_stop])"
   ]
  },
  {
   "cell_type": "markdown",
   "id": "fe111de3",
   "metadata": {
    "papermill": {
     "duration": 0.228748,
     "end_time": "2024-03-06T05:56:10.506064",
     "exception": false,
     "start_time": "2024-03-06T05:56:10.277316",
     "status": "completed"
    },
    "tags": []
   },
   "source": [
    "### Evaluating the Model\n",
    "\n",
    "**TASK 7: Show the accuracy,precision,recall,f1-score the model achieved on the x_test data set. Keep in mind, there are quite a few ways to do this, but we recommend following the same procedure we showed in the MNIST lecture.**"
   ]
  },
  {
   "cell_type": "code",
   "execution_count": 27,
   "id": "9fb35245",
   "metadata": {
    "execution": {
     "iopub.execute_input": "2024-03-06T05:56:10.962851Z",
     "iopub.status.busy": "2024-03-06T05:56:10.962090Z",
     "iopub.status.idle": "2024-03-06T05:56:10.968590Z",
     "shell.execute_reply": "2024-03-06T05:56:10.967549Z"
    },
    "papermill": {
     "duration": 0.238111,
     "end_time": "2024-03-06T05:56:10.970569",
     "exception": false,
     "start_time": "2024-03-06T05:56:10.732458",
     "status": "completed"
    },
    "tags": []
   },
   "outputs": [
    {
     "data": {
      "text/plain": [
       "['loss', 'compile_metrics']"
      ]
     },
     "execution_count": 27,
     "metadata": {},
     "output_type": "execute_result"
    }
   ],
   "source": [
    "model.metrics_names"
   ]
  },
  {
   "cell_type": "code",
   "execution_count": 28,
   "id": "9e535c60",
   "metadata": {
    "execution": {
     "iopub.execute_input": "2024-03-06T05:56:11.487687Z",
     "iopub.status.busy": "2024-03-06T05:56:11.487327Z",
     "iopub.status.idle": "2024-03-06T05:56:11.494815Z",
     "shell.execute_reply": "2024-03-06T05:56:11.493618Z"
    },
    "papermill": {
     "duration": 0.238013,
     "end_time": "2024-03-06T05:56:11.497314",
     "exception": false,
     "start_time": "2024-03-06T05:56:11.259301",
     "status": "completed"
    },
    "tags": []
   },
   "outputs": [],
   "source": [
    "losses = pd.DataFrame(model.history.history)"
   ]
  },
  {
   "cell_type": "code",
   "execution_count": 29,
   "id": "2e212922",
   "metadata": {
    "execution": {
     "iopub.execute_input": "2024-03-06T05:56:11.949659Z",
     "iopub.status.busy": "2024-03-06T05:56:11.949269Z",
     "iopub.status.idle": "2024-03-06T05:56:11.966906Z",
     "shell.execute_reply": "2024-03-06T05:56:11.965561Z"
    },
    "papermill": {
     "duration": 0.2474,
     "end_time": "2024-03-06T05:56:11.969223",
     "exception": false,
     "start_time": "2024-03-06T05:56:11.721823",
     "status": "completed"
    },
    "tags": []
   },
   "outputs": [
    {
     "data": {
      "text/html": [
       "<div>\n",
       "<style scoped>\n",
       "    .dataframe tbody tr th:only-of-type {\n",
       "        vertical-align: middle;\n",
       "    }\n",
       "\n",
       "    .dataframe tbody tr th {\n",
       "        vertical-align: top;\n",
       "    }\n",
       "\n",
       "    .dataframe thead th {\n",
       "        text-align: right;\n",
       "    }\n",
       "</style>\n",
       "<table border=\"1\" class=\"dataframe\">\n",
       "  <thead>\n",
       "    <tr style=\"text-align: right;\">\n",
       "      <th></th>\n",
       "      <th>accuracy</th>\n",
       "      <th>loss</th>\n",
       "      <th>val_accuracy</th>\n",
       "      <th>val_loss</th>\n",
       "    </tr>\n",
       "  </thead>\n",
       "  <tbody>\n",
       "    <tr>\n",
       "      <th>0</th>\n",
       "      <td>0.820400</td>\n",
       "      <td>0.493631</td>\n",
       "      <td>0.8590</td>\n",
       "      <td>0.384539</td>\n",
       "    </tr>\n",
       "    <tr>\n",
       "      <th>1</th>\n",
       "      <td>0.879150</td>\n",
       "      <td>0.333036</td>\n",
       "      <td>0.8755</td>\n",
       "      <td>0.354472</td>\n",
       "    </tr>\n",
       "    <tr>\n",
       "      <th>2</th>\n",
       "      <td>0.894550</td>\n",
       "      <td>0.289222</td>\n",
       "      <td>0.8825</td>\n",
       "      <td>0.327602</td>\n",
       "    </tr>\n",
       "    <tr>\n",
       "      <th>3</th>\n",
       "      <td>0.902350</td>\n",
       "      <td>0.265987</td>\n",
       "      <td>0.8890</td>\n",
       "      <td>0.308369</td>\n",
       "    </tr>\n",
       "    <tr>\n",
       "      <th>4</th>\n",
       "      <td>0.908567</td>\n",
       "      <td>0.249037</td>\n",
       "      <td>0.8814</td>\n",
       "      <td>0.334781</td>\n",
       "    </tr>\n",
       "  </tbody>\n",
       "</table>\n",
       "</div>"
      ],
      "text/plain": [
       "   accuracy      loss  val_accuracy  val_loss\n",
       "0  0.820400  0.493631        0.8590  0.384539\n",
       "1  0.879150  0.333036        0.8755  0.354472\n",
       "2  0.894550  0.289222        0.8825  0.327602\n",
       "3  0.902350  0.265987        0.8890  0.308369\n",
       "4  0.908567  0.249037        0.8814  0.334781"
      ]
     },
     "execution_count": 29,
     "metadata": {},
     "output_type": "execute_result"
    }
   ],
   "source": [
    "losses.head()"
   ]
  },
  {
   "cell_type": "code",
   "execution_count": 30,
   "id": "c6664ff8",
   "metadata": {
    "execution": {
     "iopub.execute_input": "2024-03-06T05:56:12.422238Z",
     "iopub.status.busy": "2024-03-06T05:56:12.421825Z",
     "iopub.status.idle": "2024-03-06T05:56:12.715841Z",
     "shell.execute_reply": "2024-03-06T05:56:12.715046Z"
    },
    "papermill": {
     "duration": 0.523616,
     "end_time": "2024-03-06T05:56:12.717939",
     "exception": false,
     "start_time": "2024-03-06T05:56:12.194323",
     "status": "completed"
    },
    "tags": []
   },
   "outputs": [
    {
     "data": {
      "text/plain": [
       "<Axes: >"
      ]
     },
     "execution_count": 30,
     "metadata": {},
     "output_type": "execute_result"
    },
    {
     "data": {
      "image/png": "[encoded data removed]",
      "text/plain": [
       "<Figure size 640x480 with 1 Axes>"
      ]
     },
     "metadata": {},
     "output_type": "display_data"
    }
   ],
   "source": [
    "losses[['accuracy', 'val_accuracy']].plot()"
   ]
  },
  {
   "cell_type": "code",
   "execution_count": 31,
   "id": "1b4eac03",
   "metadata": {
    "execution": {
     "iopub.execute_input": "2024-03-06T05:56:13.171717Z",
     "iopub.status.busy": "2024-03-06T05:56:13.170822Z",
     "iopub.status.idle": "2024-03-06T05:56:13.445029Z",
     "shell.execute_reply": "2024-03-06T05:56:13.443984Z"
    },
    "papermill": {
     "duration": 0.503938,
     "end_time": "2024-03-06T05:56:13.447047",
     "exception": false,
     "start_time": "2024-03-06T05:56:12.943109",
     "status": "completed"
    },
    "tags": []
   },
   "outputs": [
    {
     "data": {
      "text/plain": [
       "<Axes: >"
      ]
     },
     "execution_count": 31,
     "metadata": {},
     "output_type": "execute_result"
    },
    {
     "data": {
      "image/png": "[encoded data removed]",
      "text/plain": [
       "<Figure size 640x480 with 1 Axes>"
      ]
     },
     "metadata": {},
     "output_type": "display_data"
    }
   ],
   "source": [
    "losses[['loss', 'val_loss']].plot()"
   ]
  },
  {
   "cell_type": "code",
   "execution_count": 32,
   "id": "31bccd20",
   "metadata": {
    "execution": {
     "iopub.execute_input": "2024-03-06T05:56:13.986498Z",
     "iopub.status.busy": "2024-03-06T05:56:13.986123Z",
     "iopub.status.idle": "2024-03-06T05:56:15.458897Z",
     "shell.execute_reply": "2024-03-06T05:56:15.457648Z"
    },
    "papermill": {
     "duration": 1.786218,
     "end_time": "2024-03-06T05:56:15.461253",
     "exception": false,
     "start_time": "2024-03-06T05:56:13.675035",
     "status": "completed"
    },
    "tags": []
   },
   "outputs": [
    {
     "name": "stdout",
     "output_type": "stream",
     "text": [
      "['loss', 'compile_metrics']\n",
      "[0.30064472556114197, 0.8995000123977661]\n"
     ]
    }
   ],
   "source": [
    "print(model.metrics_names)\n",
    "print(model.evaluate(x_test,y_test_one_hot,verbose=0))"
   ]
  },
  {
   "cell_type": "code",
   "execution_count": 33,
   "id": "ca533198",
   "metadata": {
    "execution": {
     "iopub.execute_input": "2024-03-06T05:56:15.922300Z",
     "iopub.status.busy": "2024-03-06T05:56:15.921935Z",
     "iopub.status.idle": "2024-03-06T05:56:16.752261Z",
     "shell.execute_reply": "2024-03-06T05:56:16.751156Z"
    },
    "papermill": {
     "duration": 1.067068,
     "end_time": "2024-03-06T05:56:16.754730",
     "exception": false,
     "start_time": "2024-03-06T05:56:15.687662",
     "status": "completed"
    },
    "tags": []
   },
   "outputs": [],
   "source": [
    "from sklearn.metrics import classification_report, confusion_matrix"
   ]
  },
  {
   "cell_type": "code",
   "execution_count": 34,
   "id": "bd04fbb3",
   "metadata": {
    "execution": {
     "iopub.execute_input": "2024-03-06T05:56:17.212558Z",
     "iopub.status.busy": "2024-03-06T05:56:17.212119Z",
     "iopub.status.idle": "2024-03-06T05:56:18.874733Z",
     "shell.execute_reply": "2024-03-06T05:56:18.873825Z"
    },
    "papermill": {
     "duration": 1.894463,
     "end_time": "2024-03-06T05:56:18.877164",
     "exception": false,
     "start_time": "2024-03-06T05:56:16.982701",
     "status": "completed"
    },
    "tags": []
   },
   "outputs": [
    {
     "name": "stdout",
     "output_type": "stream",
     "text": [
      "\u001b[1m313/313\u001b[0m \u001b[32m━━━━━━━━━━━━━━━━━━━━\u001b[0m\u001b[37m\u001b[0m \u001b[1m1s\u001b[0m 4ms/step\n"
     ]
    }
   ],
   "source": [
    "predictions = np.argmax(model.predict(x_test), axis=1)"
   ]
  },
  {
   "cell_type": "code",
   "execution_count": 35,
   "id": "8faaf8e8",
   "metadata": {
    "execution": {
     "iopub.execute_input": "2024-03-06T05:56:19.338676Z",
     "iopub.status.busy": "2024-03-06T05:56:19.337486Z",
     "iopub.status.idle": "2024-03-06T05:56:19.343545Z",
     "shell.execute_reply": "2024-03-06T05:56:19.342766Z"
    },
    "papermill": {
     "duration": 0.237016,
     "end_time": "2024-03-06T05:56:19.345323",
     "exception": false,
     "start_time": "2024-03-06T05:56:19.108307",
     "status": "completed"
    },
    "tags": []
   },
   "outputs": [
    {
     "data": {
      "text/plain": [
       "(10000, 10)"
      ]
     },
     "execution_count": 35,
     "metadata": {},
     "output_type": "execute_result"
    }
   ],
   "source": [
    "y_test_one_hot.shape"
   ]
  },
  {
   "cell_type": "code",
   "execution_count": 36,
   "id": "2c172132",
   "metadata": {
    "execution": {
     "iopub.execute_input": "2024-03-06T05:56:19.805803Z",
     "iopub.status.busy": "2024-03-06T05:56:19.804692Z",
     "iopub.status.idle": "2024-03-06T05:56:19.810490Z",
     "shell.execute_reply": "2024-03-06T05:56:19.809818Z"
    },
    "papermill": {
     "duration": 0.239851,
     "end_time": "2024-03-06T05:56:19.812284",
     "exception": false,
     "start_time": "2024-03-06T05:56:19.572433",
     "status": "completed"
    },
    "tags": []
   },
   "outputs": [
    {
     "data": {
      "text/plain": [
       "array([9, 2, 1, ..., 8, 1, 5], dtype=uint8)"
      ]
     },
     "execution_count": 36,
     "metadata": {},
     "output_type": "execute_result"
    }
   ],
   "source": [
    "y_test"
   ]
  },
  {
   "cell_type": "code",
   "execution_count": 37,
   "id": "19957d06",
   "metadata": {
    "execution": {
     "iopub.execute_input": "2024-03-06T05:56:20.338125Z",
     "iopub.status.busy": "2024-03-06T05:56:20.337754Z",
     "iopub.status.idle": "2024-03-06T05:56:20.347669Z",
     "shell.execute_reply": "2024-03-06T05:56:20.346653Z"
    },
    "papermill": {
     "duration": 0.308642,
     "end_time": "2024-03-06T05:56:20.349771",
     "exception": false,
     "start_time": "2024-03-06T05:56:20.041129",
     "status": "completed"
    },
    "tags": []
   },
   "outputs": [
    {
     "data": {
      "text/plain": [
       "array([[895,   0,  22,  10,   5,   1,  62,   0,   5,   0],\n",
       "       [  3, 982,   1,  10,   2,   0,   1,   0,   1,   0],\n",
       "       [ 14,   1, 895,   8,  41,   0,  41,   0,   0,   0],\n",
       "       [ 33,  13,  13, 864,  43,   0,  34,   0,   0,   0],\n",
       "       [  2,   0,  71,  16, 867,   0,  44,   0,   0,   0],\n",
       "       [  0,   0,   0,   0,   0, 982,   0,   9,   0,   9],\n",
       "       [139,   1, 120,  16,  88,   0, 629,   0,   7,   0],\n",
       "       [  0,   0,   0,   0,   0,  14,   0, 970,   0,  16],\n",
       "       [  6,   3,   7,   2,   9,   3,   3,   3, 964,   0],\n",
       "       [  0,   0,   1,   0,   0,  10,   0,  42,   0, 947]])"
      ]
     },
     "execution_count": 37,
     "metadata": {},
     "output_type": "execute_result"
    }
   ],
   "source": [
    "confusion_matrix(y_test,predictions)"
   ]
  },
  {
   "cell_type": "code",
   "execution_count": 38,
   "id": "c2f6aaeb",
   "metadata": {
    "execution": {
     "iopub.execute_input": "2024-03-06T05:56:20.815704Z",
     "iopub.status.busy": "2024-03-06T05:56:20.815317Z",
     "iopub.status.idle": "2024-03-06T05:56:21.664662Z",
     "shell.execute_reply": "2024-03-06T05:56:21.663611Z"
    },
    "papermill": {
     "duration": 1.089026,
     "end_time": "2024-03-06T05:56:21.667261",
     "exception": false,
     "start_time": "2024-03-06T05:56:20.578235",
     "status": "completed"
    },
    "tags": []
   },
   "outputs": [
    {
     "data": {
      "text/plain": [
       "<Axes: >"
      ]
     },
     "execution_count": 38,
     "metadata": {},
     "output_type": "execute_result"
    },
    {
     "data": {
      "image/png": "[encoded data removed]",
      "text/plain": [
       "<Figure size 1000x500 with 2 Axes>"
      ]
     },
     "metadata": {},
     "output_type": "display_data"
    }
   ],
   "source": [
    "import seaborn as sns\n",
    "plt.figure(figsize=(10,5))\n",
    "sns.heatmap(confusion_matrix(y_test,predictions),annot=True)"
   ]
  },
  {
   "cell_type": "code",
   "execution_count": 39,
   "id": "7b0d1726",
   "metadata": {
    "execution": {
     "iopub.execute_input": "2024-03-06T05:56:22.134288Z",
     "iopub.status.busy": "2024-03-06T05:56:22.133915Z",
     "iopub.status.idle": "2024-03-06T05:56:22.168686Z",
     "shell.execute_reply": "2024-03-06T05:56:22.167390Z"
    },
    "papermill": {
     "duration": 0.271485,
     "end_time": "2024-03-06T05:56:22.171013",
     "exception": false,
     "start_time": "2024-03-06T05:56:21.899528",
     "status": "completed"
    },
    "tags": []
   },
   "outputs": [
    {
     "name": "stdout",
     "output_type": "stream",
     "text": [
      "              precision    recall  f1-score   support\n",
      "\n",
      "           0       0.82      0.90      0.86      1000\n",
      "           1       0.98      0.98      0.98      1000\n",
      "           2       0.79      0.90      0.84      1000\n",
      "           3       0.93      0.86      0.90      1000\n",
      "           4       0.82      0.87      0.84      1000\n",
      "           5       0.97      0.98      0.98      1000\n",
      "           6       0.77      0.63      0.69      1000\n",
      "           7       0.95      0.97      0.96      1000\n",
      "           8       0.99      0.96      0.98      1000\n",
      "           9       0.97      0.95      0.96      1000\n",
      "\n",
      "    accuracy                           0.90     10000\n",
      "   macro avg       0.90      0.90      0.90     10000\n",
      "weighted avg       0.90      0.90      0.90     10000\n",
      "\n"
     ]
    }
   ],
   "source": [
    "print(classification_report(y_test,predictions))"
   ]
  },
  {
   "cell_type": "markdown",
   "id": "a0da4b78",
   "metadata": {
    "papermill": {
     "duration": 0.233386,
     "end_time": "2024-03-06T05:56:22.635752",
     "exception": false,
     "start_time": "2024-03-06T05:56:22.402366",
     "status": "completed"
    },
    "tags": []
   },
   "source": [
    "# Great Job!"
   ]
  }
 ],
 "metadata": {
  "kaggle": {
   "accelerator": "none",
   "dataSources": [],
   "isGpuEnabled": false,
   "isInternetEnabled": true,
   "language": "python",
   "sourceType": "notebook"
  },
  "kernelspec": {
   "display_name": "Python 3 (ipykernel)",
   "language": "python",
   "name": "python3"
  },
  "language_info": {
   "codemirror_mode": {
    "name": "ipython",
    "version": 3
   },
   "file_extension": ".py",
   "mimetype": "text/x-python",
   "name": "python",
   "nbconvert_exporter": "python",
   "pygments_lexer": "ipython3",
   "version": "3.10.13"
  },
  "papermill": {
   "default_parameters": {},
   "duration": 247.140712,
   "end_time": "2024-03-06T05:56:25.477519",
   "environment_variables": {},
   "exception": null,
   "input_path": "__notebook__.ipynb",
   "output_path": "__notebook__.ipynb",
   "parameters": {},
   "start_time": "2024-03-06T05:52:18.336807",
   "version": "2.5.0"
  }
 },
 "nbformat": 4,
 "nbformat_minor": 5
}
